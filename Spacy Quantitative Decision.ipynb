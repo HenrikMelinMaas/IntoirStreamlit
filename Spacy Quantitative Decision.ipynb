{
 "cells": [
  {
   "cell_type": "markdown",
   "id": "726dcd47-bd08-42b0-9b17-4358c5a837ee",
   "metadata": {},
   "source": [
    "## Spacy work out  Quantitative Decision Trace\n",
    "\n",
    "# Intoir Quantitative Decision Trace for LLMs s\n",
    "2024.5.15.\n",
    "\n",
    "## Big question\n",
    "\n",
    "\n",
    "How do you perceive the demands of yourjob\n",
    "\n",
    "\n",
    "o#  Sub-questions normally 1-1 answer0   \n",
    "\n",
    "Do they stimulate you or lead so ,tress?\n",
    "\n",
    "How manageable do you find the workload and pressures of your job?\n",
    "\n",
    "In what ways do you feel the demands of your job challenge your capabilities\n",
    "\n",
    "How do you balance job demands with personal well-being to avoid burnout\n",
    "\n",
    "Do you feel that the complexity of your tasks is appropriately matched with your skills and abilities\n",
    "\n",
    "How do time pressures and deadlines at work impact your engagement and overall well-being \n",
    "### Questions to elaborate on, the prompt question\n",
    "Describe your last work situations last year ?\n",
    "\n",
    "\n",
    "### Promo be worked **\n",
    "Last year, our team struggled to meet a tight deadline for a large project. Our leader, Otto von Bismarck, was not content to simply delegate tasks and hope for the best. Instead, they clearly articulated a vision for the project's impact, emphasizing how it would benefit our customers and the company. They didn't hesitate to challenge us to think creatively and come up with new solutions, even when it meant stepping outside our comfort zone. Throughout the process, Otto von Bismarck took the tistand our individual strengths and concerns, offering personal support and encouragement. They gave us the power to make decisions and take responsibility for our work, which fostered collaboration and accountability. Finally, we not only managedto meet the deadline, but delivered a project that exceeded expectations.\n",
    "\n",
    "What made this situation so significant for me was seeing hurotto von bismarck's leadership style foster a sense of purpose, collaboration and personal growth within the team. It wasn't just about completing a task; it was about learning, developing and making a real dif\"ferenced.renced.\n",
    "\n"
   ]
  },
  {
   "cell_type": "code",
   "execution_count": 1,
   "id": "931c456e-e2f4-443a-855c-f1d4b3889e63",
   "metadata": {},
   "outputs": [],
   "source": [
    "in_leChat =\"Last year, our team struggled to meet a tight deadline for a large project. Our leader, Otto von Bismarck, was not content to simply delegate tasks and hope for the best. Instead, they clearly articulated a vision for the project's impact, emphasizing how it would benefit our customers and the company. They didn't hesitate to challenge us to think creatively and come up with new solutions, even when it meant stepping outside our comfort zone. Throughout the process, Otto von Bismarck took the time to understand our individual strengths and concerns, offering personal support and encouragement. They gave us the power to make decisions and take responsibility for our work, which fostered collaboration and accountability. Finally, we not only managed to meet the deadline, but delivered a project that exceeded expectations. What made this situation so significant for me was seeing hurotto von bismarck's leadership style foster a sense of purpose, collaboration and personal growth within the team. It wasn't just about completing a task; it was about learning, developing and making a real difference\""
   ]
  },
  {
   "cell_type": "code",
   "execution_count": 2,
   "id": "2a995617-decd-4a4b-b09f-fbb93570b971",
   "metadata": {},
   "outputs": [],
   "source": [
    "import pandas as pd\n",
    "import os\n",
    "import warnings\n",
    "import spacy\n",
    "import numpy as np\n",
    "import re"
   ]
  },
  {
   "cell_type": "code",
   "execution_count": 3,
   "id": "cd6d3e22-0ad7-43fb-a62a-a9dd6e0e0a5e",
   "metadata": {},
   "outputs": [],
   "source": [
    "#Setup load nlp, trun of warnings, and  chg dir \n",
    "nlp = spacy.load(\"en_core_web_sm\")\n",
    "warnings.filterwarnings(\"ignore\") # Turn off all warnings\n",
    "directory_path = 'C:/Users/46763/Desktop/Project/inotir/data'\n",
    "os.chdir(directory_path)\n",
    "current_directory = os.getcwd()\n",
    "directory_contents = os.listdir(current_directory)\n",
    "#for item in directory_contents:\n",
    "#    print(item)"
   ]
  },
  {
   "cell_type": "code",
   "execution_count": 4,
   "id": "64af23a4-bd44-48f1-81ef-eece284c50cb",
   "metadata": {},
   "outputs": [],
   "source": [
    "excel_file = 'questionMistral_v01.xlsx'\n",
    "mistral_xlsx = pd.read_excel(excel_file, sheet_name='Mistral')\n",
    "\n",
    "intoirscoreRangePy= 'IntoirScoreRangePy.xlsx'\n",
    "scoreRangeDf = pd.read_excel(intoirscoreRangePy, sheet_name='ScoreRangePy')\n",
    "scoreRangeDf = scoreRangeDf.rename(columns=lambda x: x.strip()) # rigth trim all "
   ]
  },
  {
   "cell_type": "code",
   "execution_count": 5,
   "id": "66431932-fdfd-46e1-a98a-93f8c1e26631",
   "metadata": {},
   "outputs": [
    {
     "data": {
      "text/html": [
       "<div>\n",
       "<style scoped>\n",
       "    .dataframe tbody tr th:only-of-type {\n",
       "        vertical-align: middle;\n",
       "    }\n",
       "\n",
       "    .dataframe tbody tr th {\n",
       "        vertical-align: top;\n",
       "    }\n",
       "\n",
       "    .dataframe thead th {\n",
       "        text-align: right;\n",
       "    }\n",
       "</style>\n",
       "<table border=\"1\" class=\"dataframe\">\n",
       "  <thead>\n",
       "    <tr style=\"text-align: right;\">\n",
       "      <th></th>\n",
       "      <th>Admin Reference</th>\n",
       "      <th>Construct</th>\n",
       "      <th>Order</th>\n",
       "      <th>likert_def</th>\n",
       "      <th>Likert Quantive</th>\n",
       "      <th>MckinseyManagerMistral</th>\n",
       "      <th>TenYearBoyMistral</th>\n",
       "      <th>VictorianWomanMistral</th>\n",
       "      <th>DrillSrgtMistral</th>\n",
       "    </tr>\n",
       "  </thead>\n",
       "  <tbody>\n",
       "    <tr>\n",
       "      <th>0</th>\n",
       "      <td>AN_01</td>\n",
       "      <td>Absorption</td>\n",
       "      <td>3</td>\n",
       "      <td>Very ineffective</td>\n",
       "      <td>1</td>\n",
       "      <td>As a , I've noticed that occasionally, I don't...</td>\n",
       "      <td>Yikes, it sure seems like you get totally suck...</td>\n",
       "      <td>, dear friend, that I often find myself quite ...</td>\n",
       "      <td>Listen up, soldier! I can't help but notice th...</td>\n",
       "    </tr>\n",
       "    <tr>\n",
       "      <th>1</th>\n",
       "      <td>AN_01</td>\n",
       "      <td>Absorption</td>\n",
       "      <td>3</td>\n",
       "      <td>Neutral</td>\n",
       "      <td>3</td>\n",
       "      <td>As a  I've noticed that it's crucial to mainta...</td>\n",
       "      <td>\"Hey, I've noticed something! Sometimes, when ...</td>\n",
       "      <td>, it seems that I am often unable to fully imm...</td>\n",
       "      <td>, I've noticed a distinct lack of focus in you...</td>\n",
       "    </tr>\n",
       "  </tbody>\n",
       "</table>\n",
       "</div>"
      ],
      "text/plain": [
       "  Admin Reference   Construct  Order        likert_def  Likert Quantive  \\\n",
       "0           AN_01  Absorption      3  Very ineffective                1   \n",
       "1           AN_01  Absorption      3           Neutral                3   \n",
       "\n",
       "                              MckinseyManagerMistral  \\\n",
       "0  As a , I've noticed that occasionally, I don't...   \n",
       "1  As a  I've noticed that it's crucial to mainta...   \n",
       "\n",
       "                                   TenYearBoyMistral  \\\n",
       "0  Yikes, it sure seems like you get totally suck...   \n",
       "1  \"Hey, I've noticed something! Sometimes, when ...   \n",
       "\n",
       "                               VictorianWomanMistral  \\\n",
       "0  , dear friend, that I often find myself quite ...   \n",
       "1  , it seems that I am often unable to fully imm...   \n",
       "\n",
       "                                    DrillSrgtMistral  \n",
       "0  Listen up, soldier! I can't help but notice th...  \n",
       "1  , I've noticed a distinct lack of focus in you...  "
      ]
     },
     "execution_count": 5,
     "metadata": {},
     "output_type": "execute_result"
    }
   ],
   "source": [
    "# slect column filter some annoying words \n",
    "mistral = mistral_xlsx[['Admin Reference','Construct','Order','likert_def','Likert Quantive','MckinseyManagerMistral', 'TenYearBoyMistral', 'VictorianWomanMistral','DrillSrgtMistral']] \n",
    "#\n",
    "mistral['MckinseyManagerMistral'] = mistral['MckinseyManagerMistral'].str.replace('McKinsey Manager', '')\n",
    "mistral['MckinseyManagerMistral'] = mistral['MckinseyManagerMistral'].str.replace('McKinsey manager,', '')\n",
    "mistral['VictorianWomanMistral'] = mistral['VictorianWomanMistral'].str.replace('My dear', '')\n",
    "mistral['VictorianWomanMistral'] = mistral['VictorianWomanMistral'].str.replace('I must confess', '')\n",
    "mistral['DrillSrgtMistral'] = mistral['DrillSrgtMistral'].str.replace('Soldier', '')\n",
    "\n",
    "\n",
    "mistral.head (2)"
   ]
  },
  {
   "cell_type": "markdown",
   "id": "9e8919cd-fa8b-4161-8aea-d0b1683224ff",
   "metadata": {},
   "source": [
    "## Add le Chat"
   ]
  },
  {
   "cell_type": "code",
   "execution_count": 6,
   "id": "e5544de6-33b4-4ebd-8f19-904b01e15479",
   "metadata": {},
   "outputs": [],
   "source": [
    "def split_string_into_three_parts(s):\n",
    "    ''' Splitt string three parts'''\n",
    "    length = len(s)\n",
    "    part_length = length // 3\n",
    "    part1 = s[:part_length]\n",
    "    part2 = s[part_length:2*part_length]\n",
    "    part3 = s[2*part_length:]\n",
    "    return part1, part2, part3"
   ]
  },
  {
   "cell_type": "code",
   "execution_count": 7,
   "id": "a2ebb24e-153e-4646-8056-7222c70ca427",
   "metadata": {},
   "outputs": [
    {
     "data": {
      "text/html": [
       "<div>\n",
       "<style scoped>\n",
       "    .dataframe tbody tr th:only-of-type {\n",
       "        vertical-align: middle;\n",
       "    }\n",
       "\n",
       "    .dataframe tbody tr th {\n",
       "        vertical-align: top;\n",
       "    }\n",
       "\n",
       "    .dataframe thead th {\n",
       "        text-align: right;\n",
       "    }\n",
       "</style>\n",
       "<table border=\"1\" class=\"dataframe\">\n",
       "  <thead>\n",
       "    <tr style=\"text-align: right;\">\n",
       "      <th></th>\n",
       "      <th>Admin Reference</th>\n",
       "      <th>Construct</th>\n",
       "      <th>Order</th>\n",
       "      <th>likert_def</th>\n",
       "      <th>Likert Quantive</th>\n",
       "      <th>MckinseyManagerMistral</th>\n",
       "      <th>TenYearBoyMistral</th>\n",
       "      <th>VictorianWomanMistral</th>\n",
       "      <th>DrillSrgtMistral</th>\n",
       "      <th>leChat</th>\n",
       "      <th>leChat_first</th>\n",
       "      <th>leChat_middle</th>\n",
       "      <th>leChat_last</th>\n",
       "    </tr>\n",
       "  </thead>\n",
       "  <tbody>\n",
       "    <tr>\n",
       "      <th>0</th>\n",
       "      <td>AN_01</td>\n",
       "      <td>Absorption</td>\n",
       "      <td>3</td>\n",
       "      <td>Very ineffective</td>\n",
       "      <td>1</td>\n",
       "      <td>As a , I've noticed that occasionally, I don't...</td>\n",
       "      <td>Yikes, it sure seems like you get totally suck...</td>\n",
       "      <td>, dear friend, that I often find myself quite ...</td>\n",
       "      <td>Listen up, soldier! I can't help but notice th...</td>\n",
       "      <td>Last year, our team struggled to meet a tight ...</td>\n",
       "      <td>Last year, our team struggled to meet a tight ...</td>\n",
       "      <td>up with new solutions, even when it meant step...</td>\n",
       "      <td>not only managed to meet the deadline, but de...</td>\n",
       "    </tr>\n",
       "    <tr>\n",
       "      <th>1</th>\n",
       "      <td>AN_01</td>\n",
       "      <td>Absorption</td>\n",
       "      <td>3</td>\n",
       "      <td>Neutral</td>\n",
       "      <td>3</td>\n",
       "      <td>As a  I've noticed that it's crucial to mainta...</td>\n",
       "      <td>\"Hey, I've noticed something! Sometimes, when ...</td>\n",
       "      <td>, it seems that I am often unable to fully imm...</td>\n",
       "      <td>, I've noticed a distinct lack of focus in you...</td>\n",
       "      <td>Last year, our team struggled to meet a tight ...</td>\n",
       "      <td>Last year, our team struggled to meet a tight ...</td>\n",
       "      <td>up with new solutions, even when it meant step...</td>\n",
       "      <td>not only managed to meet the deadline, but de...</td>\n",
       "    </tr>\n",
       "  </tbody>\n",
       "</table>\n",
       "</div>"
      ],
      "text/plain": [
       "  Admin Reference   Construct  Order        likert_def  Likert Quantive  \\\n",
       "0           AN_01  Absorption      3  Very ineffective                1   \n",
       "1           AN_01  Absorption      3           Neutral                3   \n",
       "\n",
       "                              MckinseyManagerMistral  \\\n",
       "0  As a , I've noticed that occasionally, I don't...   \n",
       "1  As a  I've noticed that it's crucial to mainta...   \n",
       "\n",
       "                                   TenYearBoyMistral  \\\n",
       "0  Yikes, it sure seems like you get totally suck...   \n",
       "1  \"Hey, I've noticed something! Sometimes, when ...   \n",
       "\n",
       "                               VictorianWomanMistral  \\\n",
       "0  , dear friend, that I often find myself quite ...   \n",
       "1  , it seems that I am often unable to fully imm...   \n",
       "\n",
       "                                    DrillSrgtMistral  \\\n",
       "0  Listen up, soldier! I can't help but notice th...   \n",
       "1  , I've noticed a distinct lack of focus in you...   \n",
       "\n",
       "                                              leChat  \\\n",
       "0  Last year, our team struggled to meet a tight ...   \n",
       "1  Last year, our team struggled to meet a tight ...   \n",
       "\n",
       "                                        leChat_first  \\\n",
       "0  Last year, our team struggled to meet a tight ...   \n",
       "1  Last year, our team struggled to meet a tight ...   \n",
       "\n",
       "                                       leChat_middle  \\\n",
       "0  up with new solutions, even when it meant step...   \n",
       "1  up with new solutions, even when it meant step...   \n",
       "\n",
       "                                         leChat_last  \n",
       "0   not only managed to meet the deadline, but de...  \n",
       "1   not only managed to meet the deadline, but de...  "
      ]
     },
     "execution_count": 7,
     "metadata": {},
     "output_type": "execute_result"
    }
   ],
   "source": [
    "leChat_first, leChat_middle, leChat_last  = split_string_into_three_parts(in_leChat)\n",
    "mistral['leChat'] = in_leChat\n",
    "mistral['leChat_first'] = leChat_first\n",
    "mistral['leChat_middle'] = leChat_middle\n",
    "mistral['leChat_last'] = leChat_last\n",
    "mistral.head (2)"
   ]
  },
  {
   "cell_type": "markdown",
   "id": "ab67405f-5b3e-4a15-8e48-b180d0bb2531",
   "metadata": {},
   "source": [
    "## Scoring "
   ]
  },
  {
   "cell_type": "code",
   "execution_count": 8,
   "id": "59ba9fcb-3efc-4347-b99c-1e3e2c242c64",
   "metadata": {},
   "outputs": [],
   "source": [
    "mistral_score = mistral"
   ]
  },
  {
   "cell_type": "code",
   "execution_count": 9,
   "id": "874ca33a-8452-46dc-991f-91770c61537f",
   "metadata": {},
   "outputs": [],
   "source": [
    "def compare_similarity(cv1_text, cv2_text):\n",
    "    ''' Compare similarity '''\n",
    "    cv1_doc = nlp(cv1_text)\n",
    "    cv2_doc = nlp(cv2_text)\n",
    "    similarity_score = cv1_doc.similarity(cv2_doc)\n",
    "    return similarity_score"
   ]
  },
  {
   "cell_type": "markdown",
   "id": "82b54b40-2194-46e7-ba00-704601046c91",
   "metadata": {},
   "source": [
    "### Score MckinseyManager"
   ]
  },
  {
   "cell_type": "code",
   "execution_count": 10,
   "id": "c5974194-e765-40ce-9410-07912338bbae",
   "metadata": {},
   "outputs": [],
   "source": [
    "#\n",
    "mistral_score['MckinseyM_Score_full'] = mistral_score.apply(lambda row: compare_similarity(row['MckinseyManagerMistral'], row['leChat']), axis=1)\n",
    "mistral_score['MckinseyM_Score_first'] = mistral_score.apply(lambda row: compare_similarity(row['MckinseyManagerMistral'], row['leChat_first']), axis=1)\n",
    "mistral_score['MckinseyM_Score_meddle'] = mistral_score.apply(lambda row: compare_similarity(row['MckinseyManagerMistral'], row['leChat_middle']), axis=1)\n",
    "mistral_score['MckinseyM_Score_last'] = mistral_score.apply(lambda row: compare_similarity(row['MckinseyManagerMistral'], row['leChat_last']), axis=1)"
   ]
  },
  {
   "cell_type": "markdown",
   "id": "84ddb930-c988-40ac-aa41-a8ae5300b2d6",
   "metadata": {},
   "source": [
    "### Boy"
   ]
  },
  {
   "cell_type": "code",
   "execution_count": 11,
   "id": "5d24fafb-d6d3-4296-a3ca-d4776af64336",
   "metadata": {},
   "outputs": [],
   "source": [
    "mistral_score['Boy_Score_full'] = mistral_score.apply(lambda row: compare_similarity(row['TenYearBoyMistral'], row['leChat']), axis=1)\n",
    "mistral_score['Boy_Score_first'] = mistral_score.apply(lambda row: compare_similarity(row['TenYearBoyMistral'], row['leChat_first']), axis=1)\n",
    "mistral_score['Boy_Score_meddle'] = mistral_score.apply(lambda row: compare_similarity(row['TenYearBoyMistral'], row['leChat_middle']), axis=1)\n",
    "mistral_score['Boy_Score_last'] = mistral_score.apply(lambda row: compare_similarity(row['TenYearBoyMistral'], row['leChat_last']), axis=1)"
   ]
  },
  {
   "cell_type": "markdown",
   "id": "519e91b9-3660-48b8-a59c-c7c13df77ac0",
   "metadata": {},
   "source": [
    "### Victorian Woman  \n",
    "VictorianWomanMistral"
   ]
  },
  {
   "cell_type": "code",
   "execution_count": 12,
   "id": "0a29f314-1bb0-483d-81b2-81330a1ea7ab",
   "metadata": {},
   "outputs": [],
   "source": [
    "mistral_score['Victorian_Score_full'] = mistral_score.apply(lambda row: compare_similarity(row['VictorianWomanMistral'], row['leChat']), axis=1)\n",
    "mistral_score['Victorian_Score_first'] = mistral_score.apply(lambda row: compare_similarity(row['VictorianWomanMistral'], row['leChat_first']), axis=1)\n",
    "mistral_score['Victorian_Score_meddle'] = mistral_score.apply(lambda row: compare_similarity(row['VictorianWomanMistral'], row['leChat_middle']), axis=1)\n",
    "mistral_score['Victorian_Score_last'] = mistral_score.apply(lambda row: compare_similarity(row['VictorianWomanMistral'], row['leChat_last']), axis=1)"
   ]
  },
  {
   "cell_type": "markdown",
   "id": "546094e3-37f9-4a19-8984-e27452ece92a",
   "metadata": {},
   "source": [
    "### Drill Sergeant  \n",
    "DrillSrgtMistral"
   ]
  },
  {
   "cell_type": "code",
   "execution_count": 13,
   "id": "77002c4f-7450-45e6-8e17-fbe94a4396c5",
   "metadata": {},
   "outputs": [],
   "source": [
    "mistral_score['Sergeant_Score_full'] = mistral_score.apply(lambda row: compare_similarity(row['DrillSrgtMistral'], row['leChat']), axis=1)\n",
    "mistral_score['Sergeant_Score_first'] = mistral_score.apply(lambda row: compare_similarity(row['DrillSrgtMistral'], row['leChat_first']), axis=1)\n",
    "mistral_score['Sergeant_Score_meddle'] = mistral_score.apply(lambda row: compare_similarity(row['DrillSrgtMistral'], row['leChat_middle']), axis=1)\n",
    "mistral_score['Sergeant_Score_last'] = mistral_score.apply(lambda row: compare_similarity(row['DrillSrgtMistral'], row['leChat_last']), axis=1)\n",
    "mistral_score.to_excel(\"tmp_Sergeant.xlsx\", index=False)"
   ]
  },
  {
   "cell_type": "markdown",
   "id": "71e6369f-afd8-43a4-ba96-ec905e0b6ce9",
   "metadata": {},
   "source": [
    "## Mistral out  \n"
   ]
  },
  {
   "cell_type": "code",
   "execution_count": 310,
   "id": "3381df1b-5a94-4dc0-94a2-4710eadb779b",
   "metadata": {},
   "outputs": [],
   "source": [
    "mistral_out = mistral   # use orginal\n",
    "getavg = mistral_score.iloc[:, 13:13+16]\n",
    "\n"
   ]
  },
  {
   "cell_type": "code",
   "execution_count": 311,
   "id": "28de27da-649f-4145-8499-7ea4b6c07b05",
   "metadata": {},
   "outputs": [],
   "source": [
    "quantile_x1 = 0.20\n",
    "quantile_x2 = 0.80\n",
    "\n",
    "mistral_out ['row_sum'] = getavg.sum(axis=1)\n",
    "mistral_out ['row_mean'] = getavg.mean(axis=1)\n",
    "mistral_out ['row_lowquantile'] = getavg.quantile(quantile_x1,axis=1)\n",
    "mistral_out ['row_highquantile'] = getavg.quantile(quantile_x2,axis=1)\n",
    "mistral_out ['row_std'] = getavg.std(axis=1)\n"
   ]
  },
  {
   "cell_type": "code",
   "execution_count": 312,
   "id": "dd403eb3-5e8f-41a3-984a-650c0a904ac9",
   "metadata": {},
   "outputs": [],
   "source": [
    "mistral_out = mistral_out [['Admin Reference','Construct','Order','likert_def','row_lowquantile','row_highquantile','Likert Quantive']]\n",
    "#lowquantile mistral_out \n",
    "lowquantile = mistral_out[(mistral_out['Likert Quantive'] ==1)]\n",
    "lowquantile= lowquantile.drop(['row_highquantile','Likert Quantive'], axis=1)\n",
    "highquantile = mistral_out [['Admin Reference','row_highquantile','Likert Quantive']]\n",
    "highquantile = highquantile [(highquantile['Likert Quantive'] ==1)]\n",
    "highquantile = highquantile.drop('Likert Quantive', axis=1, )\n",
    "mistral_out = pd.merge(lowquantile, highquantile, on='Admin Reference', how='inner')"
   ]
  },
  {
   "cell_type": "code",
   "execution_count": 313,
   "id": "fba35e36-9ca2-4f52-8f59-5fe99f6b67d4",
   "metadata": {},
   "outputs": [
    {
     "data": {
      "text/html": [
       "<div>\n",
       "<style scoped>\n",
       "    .dataframe tbody tr th:only-of-type {\n",
       "        vertical-align: middle;\n",
       "    }\n",
       "\n",
       "    .dataframe tbody tr th {\n",
       "        vertical-align: top;\n",
       "    }\n",
       "\n",
       "    .dataframe thead th {\n",
       "        text-align: right;\n",
       "    }\n",
       "</style>\n",
       "<table border=\"1\" class=\"dataframe\">\n",
       "  <thead>\n",
       "    <tr style=\"text-align: right;\">\n",
       "      <th></th>\n",
       "      <th>Admin Reference</th>\n",
       "      <th>Construct</th>\n",
       "      <th>Order</th>\n",
       "      <th>likert_def</th>\n",
       "      <th>row_lowquantile</th>\n",
       "      <th>row_highquantile</th>\n",
       "      <th>Construct_ration</th>\n",
       "    </tr>\n",
       "  </thead>\n",
       "  <tbody>\n",
       "    <tr>\n",
       "      <th>0</th>\n",
       "      <td>AN_01</td>\n",
       "      <td>Absorption</td>\n",
       "      <td>3</td>\n",
       "      <td>Very ineffective</td>\n",
       "      <td>0.626063</td>\n",
       "      <td>0.751220</td>\n",
       "      <td>1.199911</td>\n",
       "    </tr>\n",
       "    <tr>\n",
       "      <th>1</th>\n",
       "      <td>AN_02</td>\n",
       "      <td>Absorption</td>\n",
       "      <td>8</td>\n",
       "      <td>Very ineffective</td>\n",
       "      <td>0.517460</td>\n",
       "      <td>0.733268</td>\n",
       "      <td>1.417053</td>\n",
       "    </tr>\n",
       "    <tr>\n",
       "      <th>2</th>\n",
       "      <td>AN_03</td>\n",
       "      <td>Absorption</td>\n",
       "      <td>13</td>\n",
       "      <td>Never</td>\n",
       "      <td>0.488480</td>\n",
       "      <td>0.749012</td>\n",
       "      <td>1.533352</td>\n",
       "    </tr>\n",
       "  </tbody>\n",
       "</table>\n",
       "</div>"
      ],
      "text/plain": [
       "  Admin Reference   Construct  Order        likert_def  row_lowquantile  \\\n",
       "0           AN_01  Absorption      3  Very ineffective         0.626063   \n",
       "1           AN_02  Absorption      8  Very ineffective         0.517460   \n",
       "2           AN_03  Absorption     13             Never         0.488480   \n",
       "\n",
       "   row_highquantile  Construct_ration  \n",
       "0          0.751220          1.199911  \n",
       "1          0.733268          1.417053  \n",
       "2          0.749012          1.533352  "
      ]
     },
     "execution_count": 313,
     "metadata": {},
     "output_type": "execute_result"
    }
   ],
   "source": [
    "mistral_out['Construct_ration'] = (mistral_out.row_highquantile / mistral_out.row_lowquantile)\n",
    "mistral_out.head(3)"
   ]
  },
  {
   "cell_type": "code",
   "execution_count": 314,
   "id": "1f838fd1-5ab1-4c16-bce9-7a289c7154d3",
   "metadata": {},
   "outputs": [],
   "source": [
    "### Binned One To five"
   ]
  },
  {
   "cell_type": "code",
   "execution_count": 315,
   "id": "736c9ace-f0fb-44bd-85d7-8080ee1d480b",
   "metadata": {},
   "outputs": [],
   "source": [
    "min_value = mistral_out['Construct_ration'].min()\n",
    "max_value = mistral_out['Construct_ration'].max()\n",
    "number_of_bins = 3\n",
    "bin_edges = np.linspace(min_value, max_value, number_of_bins + 1)\n",
    "\n",
    "# Generate bin labels\n",
    "bin_labels = range(1, number_of_bins + 1)\n",
    "\n",
    "# Step 4: Apply the bins to the DataFrame column\n",
    "mistral_out['BinnedOneToFive'] = pd.cut(mistral_out['Construct_ration'], bins=bin_edges, labels=bin_labels, include_lowest=True)\n",
    "mistral_out['BinnedOneToFive'] = mistral_out['BinnedOneToFive'].astype(int) +1"
   ]
  },
  {
   "cell_type": "code",
   "execution_count": 316,
   "id": "83271f3f-52c8-401c-b83b-1a607591422d",
   "metadata": {},
   "outputs": [],
   "source": [
    "mistral_out.loc [mistral_out.Construct_ration == mistral_out.Construct_ration.max (),'BinnedOneToFive' ] = 12\n",
    "mistral_out.loc [mistral_out.Construct_ration == mistral_out.Construct_ration.min (),'BinnedOneToFive' ] = 1"
   ]
  },
  {
   "cell_type": "code",
   "execution_count": 317,
   "id": "7c1f86dc-bbc3-4825-82a5-a3a5a149e410",
   "metadata": {},
   "outputs": [],
   "source": [
    "construct_score =  mistral_out.groupby('Construct')['BinnedOneToFive'].mean().reset_index(name='avg_BinnedOneToFive')"
   ]
  },
  {
   "cell_type": "code",
   "execution_count": 318,
   "id": "f6b8075f-262a-429a-913b-7639d32d46e8",
   "metadata": {},
   "outputs": [],
   "source": [
    "construct_score = pd.merge(construct_score, scoreRangeDf, on='Construct')"
   ]
  },
  {
   "cell_type": "code",
   "execution_count": 319,
   "id": "ef8986bd-2a78-49bf-a16c-08606c64d5f1",
   "metadata": {},
   "outputs": [],
   "source": [
    "construct_score = construct_score [(construct_score.avg_BinnedOneToFive >= construct_score.ScoreRangeStart) & \n",
    "            (construct_score.avg_BinnedOneToFive < construct_score.ScoreRangeStop)]\n"
   ]
  },
  {
   "cell_type": "code",
   "execution_count": 320,
   "id": "674bd058-5850-42d2-8a78-5f64f7ce265d",
   "metadata": {},
   "outputs": [
    {
     "data": {
      "text/html": [
       "<div>\n",
       "<style scoped>\n",
       "    .dataframe tbody tr th:only-of-type {\n",
       "        vertical-align: middle;\n",
       "    }\n",
       "\n",
       "    .dataframe tbody tr th {\n",
       "        vertical-align: top;\n",
       "    }\n",
       "\n",
       "    .dataframe thead th {\n",
       "        text-align: right;\n",
       "    }\n",
       "</style>\n",
       "<table border=\"1\" class=\"dataframe\">\n",
       "  <thead>\n",
       "    <tr style=\"text-align: right;\">\n",
       "      <th></th>\n",
       "      <th>Construct</th>\n",
       "      <th>avg_BinnedOneToFive</th>\n",
       "      <th>Admin Reference</th>\n",
       "      <th>ScoreRangeStart</th>\n",
       "      <th>ScoreRangeStop</th>\n",
       "      <th>ScoreRange</th>\n",
       "      <th>Content</th>\n",
       "      <th>Recommendations</th>\n",
       "    </tr>\n",
       "  </thead>\n",
       "  <tbody>\n",
       "    <tr>\n",
       "      <th>1</th>\n",
       "      <td>Absorption</td>\n",
       "      <td>2.833333</td>\n",
       "      <td>AN_Total</td>\n",
       "      <td>2</td>\n",
       "      <td>3</td>\n",
       "      <td>2.1-3.0</td>\n",
       "      <td>You occasionally experience deep absorption in...</td>\n",
       "      <td>Identify conditions or types of tasks under wh...</td>\n",
       "    </tr>\n",
       "    <tr>\n",
       "      <th>7</th>\n",
       "      <td>Dedication</td>\n",
       "      <td>4.333333</td>\n",
       "      <td>DN_Total</td>\n",
       "      <td>4</td>\n",
       "      <td>10</td>\n",
       "      <td>4.1-5.0</td>\n",
       "      <td>You demonstrate exceptional dedication and pri...</td>\n",
       "      <td>Mentor or guide others on how to cultivate a s...</td>\n",
       "    </tr>\n",
       "    <tr>\n",
       "      <th>9</th>\n",
       "      <td>Job Demands</td>\n",
       "      <td>2.500000</td>\n",
       "      <td>JN_Total</td>\n",
       "      <td>2</td>\n",
       "      <td>3</td>\n",
       "      <td>2.1-3.0</td>\n",
       "      <td>You manage job demands adequately, but at time...</td>\n",
       "      <td>Develop strategies for stress reduction and ef...</td>\n",
       "    </tr>\n",
       "    <tr>\n",
       "      <th>13</th>\n",
       "      <td>Job Resources</td>\n",
       "      <td>2.500000</td>\n",
       "      <td>RN_Total</td>\n",
       "      <td>2</td>\n",
       "      <td>3</td>\n",
       "      <td>2.1-3.0</td>\n",
       "      <td>While you have some job resources available, a...</td>\n",
       "      <td>Advocate for more professional development opp...</td>\n",
       "    </tr>\n",
       "    <tr>\n",
       "      <th>17</th>\n",
       "      <td>Vigor</td>\n",
       "      <td>2.500000</td>\n",
       "      <td>VN_Total</td>\n",
       "      <td>2</td>\n",
       "      <td>3</td>\n",
       "      <td>2.1-3.0</td>\n",
       "      <td>You show moderate levels of energy and effort ...</td>\n",
       "      <td>Identify work aspects that energize you and se...</td>\n",
       "    </tr>\n",
       "  </tbody>\n",
       "</table>\n",
       "</div>"
      ],
      "text/plain": [
       "        Construct  avg_BinnedOneToFive Admin Reference  ScoreRangeStart  \\\n",
       "1      Absorption             2.833333        AN_Total                2   \n",
       "7      Dedication             4.333333        DN_Total                4   \n",
       "9     Job Demands             2.500000        JN_Total                2   \n",
       "13  Job Resources             2.500000        RN_Total                2   \n",
       "17          Vigor             2.500000        VN_Total                2   \n",
       "\n",
       "    ScoreRangeStop ScoreRange  \\\n",
       "1                3    2.1-3.0   \n",
       "7               10    4.1-5.0   \n",
       "9                3    2.1-3.0   \n",
       "13               3    2.1-3.0   \n",
       "17               3    2.1-3.0   \n",
       "\n",
       "                                              Content  \\\n",
       "1   You occasionally experience deep absorption in...   \n",
       "7   You demonstrate exceptional dedication and pri...   \n",
       "9   You manage job demands adequately, but at time...   \n",
       "13  While you have some job resources available, a...   \n",
       "17  You show moderate levels of energy and effort ...   \n",
       "\n",
       "                                      Recommendations  \n",
       "1   Identify conditions or types of tasks under wh...  \n",
       "7   Mentor or guide others on how to cultivate a s...  \n",
       "9   Develop strategies for stress reduction and ef...  \n",
       "13  Advocate for more professional development opp...  \n",
       "17  Identify work aspects that energize you and se...  "
      ]
     },
     "execution_count": 320,
     "metadata": {},
     "output_type": "execute_result"
    }
   ],
   "source": [
    "construct_score"
   ]
  },
  {
   "cell_type": "code",
   "execution_count": 241,
   "id": "9b1034e3-fe8c-477e-9aa8-ba4d909c16e6",
   "metadata": {},
   "outputs": [],
   "source": [
    "text_for_out_put = ' ' + construct_score.Construct +  ':\\n' \n",
    "text_for_out_put +=' Your Approximation score is ' + (round (construct_score.avg_BinnedOneToFive,2).astype('str'))\n",
    "text_for_out_put += '  \\n' + construct_score.Recommendations\n",
    "text_for_out_put.to_excel(\"text_for_out_put_quantile_15.xlsx\", index=False)"
   ]
  },
  {
   "cell_type": "code",
   "execution_count": 239,
   "id": "6a107e8f-fc86-4aa6-887e-30f3e0069579",
   "metadata": {},
   "outputs": [
    {
     "name": "stdout",
     "output_type": "stream",
     "text": [
      "1     \"Absorption\\n Your Approximation score is 2.83...\n",
      "6     \"Dedication\\n Your Approximation score is 3.17...\n",
      "9     \"Job Demands\\n Your Approximation score is 2.3...\n",
      "13    \"Job Resources\\n Your Approximation score is 2...\n",
      "17    \"Vigor\\n Your Approximation score is 2.83\\nIde...\n",
      "Name: Construct, dtype: object\n"
     ]
    }
   ],
   "source": [
    "print (str (text_for_out_put))"
   ]
  },
  {
   "cell_type": "code",
   "execution_count": 235,
   "id": "18d0679a-5ccd-49db-a4e3-a1bde802f337",
   "metadata": {},
   "outputs": [
    {
     "data": {
      "text/plain": [
       "'1     2.83\\n6     3.17\\n9     2.33\\n13    2.67\\n17    2.83'"
      ]
     },
     "execution_count": 235,
     "metadata": {},
     "output_type": "execute_result"
    }
   ],
   "source": []
  },
  {
   "cell_type": "code",
   "execution_count": null,
   "id": "e74c5960-12ae-4a04-8221-462e20c0782c",
   "metadata": {},
   "outputs": [],
   "source": []
  }
 ],
 "metadata": {
  "kernelspec": {
   "display_name": "Python 3 (ipykernel)",
   "language": "python",
   "name": "python3"
  },
  "language_info": {
   "codemirror_mode": {
    "name": "ipython",
    "version": 3
   },
   "file_extension": ".py",
   "mimetype": "text/x-python",
   "name": "python",
   "nbconvert_exporter": "python",
   "pygments_lexer": "ipython3",
   "version": "3.12.0"
  }
 },
 "nbformat": 4,
 "nbformat_minor": 5
}
